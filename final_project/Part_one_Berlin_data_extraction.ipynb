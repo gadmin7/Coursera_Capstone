{
 "cells": [
  {
   "cell_type": "markdown",
   "metadata": {},
   "source": [
    "### Data Extraction ###"
   ]
  },
  {
   "cell_type": "markdown",
   "metadata": {},
   "source": [
    "#### Scraping data to get Localities/Neighbourhoods of Berlin and their Population ####"
   ]
  },
  {
   "cell_type": "markdown",
   "metadata": {},
   "source": [
    "##### 1. Importing Necessary Libraries #####"
   ]
  },
  {
   "cell_type": "code",
   "execution_count": 1,
   "metadata": {},
   "outputs": [],
   "source": [
    "import pandas as pd # library for data analsysis\n",
    "from geopy.geocoders import Nominatim # convert an address into latitude and longitude values "
   ]
  },
  {
   "cell_type": "code",
   "execution_count": 2,
   "metadata": {},
   "outputs": [],
   "source": [
    "#scraping the Wikipedia page in order to obtain the data that is in the table of postal codes \n",
    "table_berlin = pd.read_html('https://en.wikipedia.org/wiki/Boroughs_and_neighborhoods_of_Berlin')"
   ]
  },
  {
   "cell_type": "code",
   "execution_count": 3,
   "metadata": {},
   "outputs": [],
   "source": [
    "# read_html returns a list of all tables present on the html page where each element of list is a dataframe\n",
    "#Taking individual dataframes out of the list\n",
    "df1 = table_berlin[2]\n",
    "df2 = table_berlin[3]\n",
    "df3 = table_berlin[4]\n",
    "df4 = table_berlin[5]\n",
    "df5 = table_berlin[6]\n",
    "df6 = table_berlin[7]\n",
    "df7 = table_berlin[8]\n",
    "df8 = table_berlin[9]\n",
    "df9 = table_berlin[10]\n",
    "df10 = table_berlin[11]\n",
    "df11 = table_berlin[12]\n",
    "df12 = table_berlin[13]"
   ]
  },
  {
   "cell_type": "code",
   "execution_count": 4,
   "metadata": {},
   "outputs": [],
   "source": [
    "#Merging all the Dataframes extracted to form a single table\n",
    "df= pd.concat([df1, df2, df3, df4, df5, df6, df7, df8, df9, df10, df11, df12])"
   ]
  },
  {
   "cell_type": "code",
   "execution_count": 5,
   "metadata": {},
   "outputs": [],
   "source": [
    "#Removing unnecessary column\n",
    "del df['Map']"
   ]
  },
  {
   "cell_type": "code",
   "execution_count": 6,
   "metadata": {},
   "outputs": [],
   "source": [
    "#correcting index\n",
    "df = df.reset_index(drop=True)"
   ]
  },
  {
   "cell_type": "code",
   "execution_count": 7,
   "metadata": {},
   "outputs": [
    {
     "data": {
      "text/html": [
       "<div>\n",
       "<style scoped>\n",
       "    .dataframe tbody tr th:only-of-type {\n",
       "        vertical-align: middle;\n",
       "    }\n",
       "\n",
       "    .dataframe tbody tr th {\n",
       "        vertical-align: top;\n",
       "    }\n",
       "\n",
       "    .dataframe thead th {\n",
       "        text-align: right;\n",
       "    }\n",
       "</style>\n",
       "<table border=\"1\" class=\"dataframe\">\n",
       "  <thead>\n",
       "    <tr style=\"text-align: right;\">\n",
       "      <th></th>\n",
       "      <th>Locality</th>\n",
       "      <th>Area in km²</th>\n",
       "      <th>Population as of 2008</th>\n",
       "      <th>Density inhabitants per km²</th>\n",
       "    </tr>\n",
       "  </thead>\n",
       "  <tbody>\n",
       "    <tr>\n",
       "      <th>0</th>\n",
       "      <td>(0101) Mitte</td>\n",
       "      <td>10.70</td>\n",
       "      <td>79582</td>\n",
       "      <td>7445</td>\n",
       "    </tr>\n",
       "    <tr>\n",
       "      <th>1</th>\n",
       "      <td>(0102) Moabit</td>\n",
       "      <td>7.72</td>\n",
       "      <td>69425</td>\n",
       "      <td>8993</td>\n",
       "    </tr>\n",
       "    <tr>\n",
       "      <th>2</th>\n",
       "      <td>(0103) Hansaviertel</td>\n",
       "      <td>0.53</td>\n",
       "      <td>5889</td>\n",
       "      <td>11111</td>\n",
       "    </tr>\n",
       "    <tr>\n",
       "      <th>3</th>\n",
       "      <td>(0104) Tiergarten</td>\n",
       "      <td>5.17</td>\n",
       "      <td>12486</td>\n",
       "      <td>2415</td>\n",
       "    </tr>\n",
       "    <tr>\n",
       "      <th>4</th>\n",
       "      <td>(0105) Wedding</td>\n",
       "      <td>9.23</td>\n",
       "      <td>76363</td>\n",
       "      <td>8273</td>\n",
       "    </tr>\n",
       "  </tbody>\n",
       "</table>\n",
       "</div>"
      ],
      "text/plain": [
       "              Locality  Area in km²  Population as of 2008  \\\n",
       "0         (0101) Mitte        10.70                  79582   \n",
       "1        (0102) Moabit         7.72                  69425   \n",
       "2  (0103) Hansaviertel         0.53                   5889   \n",
       "3    (0104) Tiergarten         5.17                  12486   \n",
       "4       (0105) Wedding         9.23                  76363   \n",
       "\n",
       "   Density inhabitants per km²  \n",
       "0                         7445  \n",
       "1                         8993  \n",
       "2                        11111  \n",
       "3                         2415  \n",
       "4                         8273  "
      ]
     },
     "execution_count": 7,
     "metadata": {},
     "output_type": "execute_result"
    }
   ],
   "source": [
    "df.head()"
   ]
  },
  {
   "cell_type": "markdown",
   "metadata": {},
   "source": [
    "##### 2. Finding Location Coordinates of all Localities Extracted #####"
   ]
  },
  {
   "cell_type": "code",
   "execution_count": 8,
   "metadata": {},
   "outputs": [],
   "source": [
    "#Converting Locality Column to a list \n",
    "nlist = df[\"Locality\"].tolist()"
   ]
  },
  {
   "cell_type": "code",
   "execution_count": 9,
   "metadata": {},
   "outputs": [],
   "source": [
    "#fetching latitude and longitude of each locality by passing locality names\n",
    "latitude = []\n",
    "longitude = []\n",
    "for i in nlist:\n",
    "    address = i\n",
    "    geolocator = Nominatim(user_agent=\"ny_explorer\")\n",
    "    location = geolocator.geocode(address,timeout=10)\n",
    "    lat = location.latitude\n",
    "    latitude.append(lat)\n",
    "    long = location.longitude\n",
    "    longitude.append(long)"
   ]
  },
  {
   "cell_type": "code",
   "execution_count": 10,
   "metadata": {},
   "outputs": [],
   "source": [
    "#Converting latitude and longitude frame to dataframes\n",
    "df_lat = pd.DataFrame(latitude)\n",
    "df_long = pd.DataFrame(longitude)"
   ]
  },
  {
   "cell_type": "code",
   "execution_count": 11,
   "metadata": {},
   "outputs": [],
   "source": [
    "#Adding latitude to the main dataframe\n",
    "df_new = pd.merge(df, df_lat,left_index=True, right_index=True)"
   ]
  },
  {
   "cell_type": "code",
   "execution_count": 12,
   "metadata": {},
   "outputs": [],
   "source": [
    "#Adding Longitude to the Main Dataframe\n",
    "df_final = pd.merge(df_new, df_long,left_index=True, right_index=True)"
   ]
  },
  {
   "cell_type": "code",
   "execution_count": 13,
   "metadata": {},
   "outputs": [],
   "source": [
    "#Renaming the columns\n",
    "df_final = df_final.rename(columns = {\"0_x\": \"latitude\", \n",
    "                                  \"0_y\":\"longitude\"}) "
   ]
  },
  {
   "cell_type": "markdown",
   "metadata": {},
   "source": [
    "##### 3. Storing the resulting dataframe as a CSV file named berlin_localities#####"
   ]
  },
  {
   "cell_type": "code",
   "execution_count": 14,
   "metadata": {},
   "outputs": [],
   "source": [
    "df_final.to_csv(r'C:\\Users\\GAURI TOSHNIWAL\\Documents\\zcoursera\\Capstone\\final_project\\berlin_localities.csv')"
   ]
  }
 ],
 "metadata": {
  "kernelspec": {
   "display_name": "Python 3",
   "language": "python",
   "name": "python3"
  },
  "language_info": {
   "codemirror_mode": {
    "name": "ipython",
    "version": 3
   },
   "file_extension": ".py",
   "mimetype": "text/x-python",
   "name": "python",
   "nbconvert_exporter": "python",
   "pygments_lexer": "ipython3",
   "version": "3.7.3"
  }
 },
 "nbformat": 4,
 "nbformat_minor": 2
}
